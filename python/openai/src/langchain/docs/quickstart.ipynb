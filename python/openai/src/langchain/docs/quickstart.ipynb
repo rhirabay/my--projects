{
 "cells": [
  {
   "cell_type": "code",
   "execution_count": null,
   "outputs": [],
   "source": [
    "# https://python.langchain.com/docs/get_started/quickstart"
   ],
   "metadata": {
    "collapsed": false
   }
  },
  {
   "cell_type": "code",
   "execution_count": 1,
   "outputs": [],
   "source": [
    "# ----- 環境変数読み込み -----\n",
    "from dotenv import load_dotenv\n",
    "\n",
    "load_dotenv()\n",
    "\n",
    "# ----- Chat準備 -----\n",
    "from langchain.chat_models import ChatOpenAI\n",
    "chat_model = ChatOpenAI()"
   ],
   "metadata": {
    "collapsed": false,
    "ExecuteTime": {
     "end_time": "2023-08-13T12:11:00.269654Z",
     "start_time": "2023-08-13T12:10:53.975586Z"
    }
   }
  },
  {
   "cell_type": "code",
   "execution_count": 2,
   "outputs": [
    {
     "data": {
      "text/plain": "AIMessage(content='日本で一番高い山は富士山です。富士山は標高3,776メートルで、日本の象徴的な山として知られています。', additional_kwargs={}, example=False)"
     },
     "execution_count": 2,
     "metadata": {},
     "output_type": "execute_result"
    }
   ],
   "source": [
    "# ----- LLMの最もシンプルな使い方 -----\n",
    "from langchain.schema import HumanMessage\n",
    "text = \"日本で一番高い山は?\"\n",
    "# HumanMessageは、ユーザのインプットと思えばOK\n",
    "messages = [HumanMessage(content=text)]\n",
    "\n",
    "# chat実行\n",
    "chat_model.predict_messages(messages)"
   ],
   "metadata": {
    "collapsed": false,
    "ExecuteTime": {
     "end_time": "2023-08-13T12:11:06.326015Z",
     "start_time": "2023-08-13T12:11:05.255786Z"
    }
   }
  },
  {
   "cell_type": "code",
   "execution_count": 6,
   "outputs": [
    {
     "data": {
      "text/plain": "'LINEは韓国のNHN株式会社（現在のNAVER株式会社）が開発しています。'"
     },
     "execution_count": 6,
     "metadata": {},
     "output_type": "execute_result"
    }
   ],
   "source": [
    "# ----- プロンプトの使い方（単一プロンプト） -----\n",
    "from langchain.prompts import PromptTemplate\n",
    "# PromptTemplateのformatを使うと、プロンプトのテンプレートに変数を埋め込める\n",
    "prompt = PromptTemplate.from_template(\"{app}はどの会社が開発しているアプリケーションですか?\")\n",
    "message = prompt.format(app=\"LINE\")\n",
    "chat_model.predict(message)"
   ],
   "metadata": {
    "collapsed": false,
    "ExecuteTime": {
     "end_time": "2023-08-11T12:50:34.618818Z",
     "start_time": "2023-08-11T12:50:33.822409Z"
    }
   }
  },
  {
   "cell_type": "code",
   "execution_count": 7,
   "outputs": [
    {
     "data": {
      "text/plain": "AIMessage(content='print(\"Hello\")', additional_kwargs={}, example=False)"
     },
     "execution_count": 7,
     "metadata": {},
     "output_type": "execute_result"
    }
   ],
   "source": [
    "# ----- プロンプトの使い方（複数プロンプト） -----\n",
    "from langchain.prompts.chat import (\n",
    "    ChatPromptTemplate,\n",
    "    SystemMessagePromptTemplate,\n",
    "    HumanMessagePromptTemplate,\n",
    ")\n",
    "# システムインプット用のテンプレートを定義\n",
    "system_message_template = \"与えられたコードを{lang_from}から{lang_to}に書き換えてください。\"\n",
    "system_message_prompt = SystemMessagePromptTemplate.from_template(system_message_template)\n",
    "# ユーザインプット用のテンプレートを定義\n",
    "human_message_template = \"{code}\"\n",
    "human_message_prompt = HumanMessagePromptTemplate.from_template(human_message_template)\n",
    "# Chatで使用するプロンプトを定義＆変数埋め込み（Webではこれ以降をリクエストごとに実行）\n",
    "chat_prompt = ChatPromptTemplate.from_messages([system_message_prompt, human_message_prompt])\n",
    "chat_message = chat_prompt.format_messages(lang_from=\"Java\", lang_to=\"Python\", code=\"System.out.println(\\\"Hello\\\");\")\n",
    "# chat実行\n",
    "chat_model.predict_messages(chat_message)"
   ],
   "metadata": {
    "collapsed": false,
    "ExecuteTime": {
     "end_time": "2023-08-11T12:51:10.529974Z",
     "start_time": "2023-08-11T12:51:10.184085Z"
    }
   }
  },
  {
   "cell_type": "code",
   "execution_count": 20,
   "outputs": [
    {
     "name": "stdout",
     "output_type": "stream",
     "text": [
      "_input: $List tree of most usable develop language.\n",
      "Your response should be a list of comma separated values, eg: `foo, bar, baz`\n",
      "output: $\n",
      "\n",
      "Java, JavaScript, Python, C, C++, C#, PHP, SQL, HTML, CSS\n"
     ]
    },
    {
     "data": {
      "text/plain": "['Java', 'JavaScript', 'Python', 'C', 'C++', 'C#', 'PHP', 'SQL', 'HTML', 'CSS']"
     },
     "execution_count": 20,
     "metadata": {},
     "output_type": "execute_result"
    }
   ],
   "source": [
    "# ----- outputの調整 -----\n",
    "# cf. https://python.langchain.com/docs/get_started/quickstart#output-parsers\n",
    "# サンプル：chatからの返答をCSVで受け取る\n",
    "\n",
    "from langchain.output_parsers import CommaSeparatedListOutputParser\n",
    "\n",
    "output_parser = CommaSeparatedListOutputParser()\n",
    "\n",
    "format_instructions = output_parser.get_format_instructions()\n",
    "prompt = PromptTemplate(\n",
    "    # インプット時にCSV形式で出力するように指示する\n",
    "    template=\"List tree of {subject}.\\n{format_instructions}\",\n",
    "    input_variables=[\"subject\"],\n",
    "    partial_variables={\"format_instructions\": format_instructions}\n",
    ")\n",
    "\n",
    "from langchain.llms import OpenAI\n",
    "model = OpenAI(temperature=0)\n",
    "_input = prompt.format(subject=\"most usable develop language\")\n",
    "print(f'_input: ${_input}')\n",
    "output = model(_input)\n",
    "print(f'output: ${output}')\n",
    "\n",
    "# CSV形式の出力を、python上でリストとして扱えるように変換する\n",
    "output_parser.parse(output)"
   ],
   "metadata": {
    "collapsed": false,
    "ExecuteTime": {
     "end_time": "2023-08-11T13:13:05.182567Z",
     "start_time": "2023-08-11T13:13:04.674245Z"
    }
   }
  },
  {
   "cell_type": "code",
   "execution_count": null,
   "outputs": [],
   "source": [],
   "metadata": {
    "collapsed": false
   }
  }
 ],
 "metadata": {
  "kernelspec": {
   "display_name": "Python 3",
   "language": "python",
   "name": "python3"
  },
  "language_info": {
   "codemirror_mode": {
    "name": "ipython",
    "version": 2
   },
   "file_extension": ".py",
   "mimetype": "text/x-python",
   "name": "python",
   "nbconvert_exporter": "python",
   "pygments_lexer": "ipython2",
   "version": "2.7.6"
  }
 },
 "nbformat": 4,
 "nbformat_minor": 0
}
