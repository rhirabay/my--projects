{
 "cells": [
  {
   "cell_type": "code",
   "id": "initial_id",
   "metadata": {
    "collapsed": true,
    "ExecuteTime": {
     "end_time": "2024-07-13T11:07:24.700467Z",
     "start_time": "2024-07-13T11:07:24.692062Z"
    }
   },
   "source": [
    "# ----- 環境変数読み込み -----\n",
    "import os\n",
    "from dotenv import load_dotenv\n",
    "load_dotenv()"
   ],
   "outputs": [
    {
     "data": {
      "text/plain": [
       "True"
      ]
     },
     "execution_count": 1,
     "metadata": {},
     "output_type": "execute_result"
    }
   ],
   "execution_count": 1
  },
  {
   "cell_type": "code",
   "source": [
    "from openai import OpenAI\n",
    "import json\n",
    "\n",
    "client = OpenAI()\n",
    "\n",
    "response = client.chat.completions.create(\n",
    "    model=\"gpt-3.5-turbo-1106\",\n",
    "    messages=[{\n",
    "      \"role\": \"user\", \"content\": \"hello worldを出力するjavaコードを生成して。\"\n",
    "    }],\n",
    "    tools=[{\n",
    "      \"type\": \"function\",\n",
    "      \"function\": {\n",
    "          \"name\": \"get_code_from_response\",\n",
    "          \"description\": \"コード部分だけ抽出する\",\n",
    "          \"parameters\": {\n",
    "              \"type\": \"object\",\n",
    "              \"properties\": {\n",
    "                  \"code\": {\n",
    "                    \"type\": \"string\",\n",
    "                    \"description\": \"The plain code without any block string. (e.g.```)\",\n",
    "                  }\n",
    "              },\n",
    "              \"required\": [\"code\"],\n",
    "          },\n",
    "      }\n",
    "    }],\n",
    "    tool_choice=\"auto\",\n",
    ")\n",
    "\n",
    "tool_calls = response.choices[0].message.tool_calls\n",
    "if tool_calls:\n",
    "  for tool_call in tool_calls:\n",
    "      if tool_call.function.name == \"get_code_from_response\":\n",
    "          code = json.loads(tool_call.function.arguments).get('code')\n",
    "          print(code)\n",
    "          break\n",
    "else:\n",
    "  print(response.choices[0].message.content)"
   ],
   "metadata": {
    "collapsed": false,
    "ExecuteTime": {
     "end_time": "2024-07-13T11:08:50.710488Z",
     "start_time": "2024-07-13T11:08:48.680517Z"
    }
   },
   "id": "15a4d4a5715b11bb",
   "outputs": [
    {
     "name": "stdout",
     "output_type": "stream",
     "text": [
      "public class Main {\n",
      "    public static void main(String[] args) {\n",
      "        System.out.println(\"Hello, world!\");\n",
      "    }\n",
      "}\n"
     ]
    }
   ],
   "execution_count": 2
  },
  {
   "cell_type": "code",
   "execution_count": null,
   "outputs": [],
   "source": [],
   "metadata": {
    "collapsed": false
   },
   "id": "afe98aad8ef40966"
  }
 ],
 "metadata": {
  "kernelspec": {
   "display_name": "Python 3",
   "language": "python",
   "name": "python3"
  },
  "language_info": {
   "codemirror_mode": {
    "name": "ipython",
    "version": 2
   },
   "file_extension": ".py",
   "mimetype": "text/x-python",
   "name": "python",
   "nbconvert_exporter": "python",
   "pygments_lexer": "ipython2",
   "version": "2.7.6"
  }
 },
 "nbformat": 4,
 "nbformat_minor": 5
}
