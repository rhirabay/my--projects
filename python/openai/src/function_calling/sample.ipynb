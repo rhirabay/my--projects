{
 "cells": [
  {
   "cell_type": "code",
   "execution_count": 1,
   "id": "initial_id",
   "metadata": {
    "collapsed": true,
    "ExecuteTime": {
     "end_time": "2024-01-18T14:27:18.099023Z",
     "start_time": "2024-01-18T14:27:18.072460Z"
    }
   },
   "outputs": [
    {
     "data": {
      "text/plain": "True"
     },
     "execution_count": 1,
     "metadata": {},
     "output_type": "execute_result"
    }
   ],
   "source": [
    "# ----- 環境変数読み込み -----\n",
    "import os\n",
    "from dotenv import load_dotenv\n",
    "load_dotenv()"
   ]
  },
  {
   "cell_type": "code",
   "execution_count": 12,
   "outputs": [
    {
     "name": "stdout",
     "output_type": "stream",
     "text": [
      "public class Main {\n",
      "    public static void main(String[] args) {\n",
      "        System.out.println(\"Hello, World!\");\n",
      "    }\n",
      "}\n"
     ]
    }
   ],
   "source": [
    "from openai import OpenAI\n",
    "import json\n",
    "\n",
    "client = OpenAI()\n",
    "\n",
    "response = client.chat.completions.create(\n",
    "    model=\"gpt-3.5-turbo-1106\",\n",
    "    messages=[{\n",
    "      \"role\": \"user\", \"content\": \"Javaでhello worldを出力するコードを生成して\"\n",
    "    }],\n",
    "    tools=[{\n",
    "      \"type\": \"function\",\n",
    "      \"function\": {\n",
    "          \"name\": \"get_code_from_response\",\n",
    "          \"description\": \"Get program code from openai response\",\n",
    "          \"parameters\": {\n",
    "              \"type\": \"object\",\n",
    "              \"properties\": {\n",
    "                  \"code\": {\n",
    "                    \"type\": \"string\",\n",
    "                    \"description\": \"The plain code without any block string. (e.g.```)\",\n",
    "                  }\n",
    "              },\n",
    "              \"required\": [\"code\"],\n",
    "          },\n",
    "      }\n",
    "    }],\n",
    "    tool_choice=\"auto\",\n",
    ")\n",
    "\n",
    "tool_calls = response.choices[0].message.tool_calls\n",
    "# print(tool_calls)\n",
    "for tool_call in tool_calls:\n",
    "    if tool_call.function.name == \"get_code_from_response\":\n",
    "        code = json.loads(tool_call.function.arguments).get('code')\n",
    "        print(code)\n",
    "        break"
   ],
   "metadata": {
    "collapsed": false,
    "ExecuteTime": {
     "end_time": "2024-01-18T14:41:52.270Z",
     "start_time": "2024-01-18T14:41:46.947694Z"
    }
   },
   "id": "15a4d4a5715b11bb"
  },
  {
   "cell_type": "code",
   "execution_count": null,
   "outputs": [],
   "source": [],
   "metadata": {
    "collapsed": false
   },
   "id": "afe98aad8ef40966"
  }
 ],
 "metadata": {
  "kernelspec": {
   "display_name": "Python 3",
   "language": "python",
   "name": "python3"
  },
  "language_info": {
   "codemirror_mode": {
    "name": "ipython",
    "version": 2
   },
   "file_extension": ".py",
   "mimetype": "text/x-python",
   "name": "python",
   "nbconvert_exporter": "python",
   "pygments_lexer": "ipython2",
   "version": "2.7.6"
  }
 },
 "nbformat": 4,
 "nbformat_minor": 5
}
