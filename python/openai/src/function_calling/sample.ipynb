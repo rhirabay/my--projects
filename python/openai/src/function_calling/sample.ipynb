{
 "cells": [
  {
   "cell_type": "code",
   "execution_count": 6,
   "id": "initial_id",
   "metadata": {
    "collapsed": true,
    "ExecuteTime": {
     "end_time": "2024-01-19T13:57:50.973994Z",
     "start_time": "2024-01-19T13:57:50.969768Z"
    }
   },
   "outputs": [
    {
     "data": {
      "text/plain": "True"
     },
     "execution_count": 6,
     "metadata": {},
     "output_type": "execute_result"
    }
   ],
   "source": [
    "# ----- 環境変数読み込み -----\n",
    "import os\n",
    "from dotenv import load_dotenv\n",
    "load_dotenv()"
   ]
  },
  {
   "cell_type": "code",
   "execution_count": 11,
   "outputs": [
    {
     "name": "stdout",
     "output_type": "stream",
     "text": [
      "----- content -----\n",
      "public class HelloWorld {\n",
      "    public static void main(String[] args) {\n",
      "        System.out.println(\"hello world\"); // hello worldを出力\n",
      "    }\n",
      "\n",
      "    public static int plus(int n1 , int n2) {\n",
      "        return n1 + n2; // n1とn2を足した値を返す\n",
      "    }\n",
      "}\n"
     ]
    }
   ],
   "source": [
    "from openai import OpenAI\n",
    "import json\n",
    "\n",
    "client = OpenAI()\n",
    "\n",
    "response = client.chat.completions.create(\n",
    "    model=\"gpt-3.5-turbo-1106\",\n",
    "    messages=[{\n",
    "      \"role\": \"user\", \"content\": \"hello worldを出力するjavaコードを生成して。\"\n",
    "    }],\n",
    "    tools=[{\n",
    "      \"type\": \"function\",\n",
    "      \"function\": {\n",
    "          \"name\": \"get_code_from_response\",\n",
    "          \"description\": \"コード部分だけ抽出する\",\n",
    "          \"parameters\": {\n",
    "              \"type\": \"object\",\n",
    "              \"properties\": {\n",
    "                  \"code\": {\n",
    "                    \"type\": \"string\",\n",
    "                    \"description\": \"The plain code without any block string. (e.g.```)\",\n",
    "                  }\n",
    "              },\n",
    "              \"required\": [\"code\"],\n",
    "          },\n",
    "      }\n",
    "    }],\n",
    "    tool_choice=\"auto\",\n",
    ")\n",
    "\n",
    "tool_calls = response.choices[0].message.tool_calls\n",
    "if tool_calls:\n",
    "  for tool_call in tool_calls:\n",
    "      if tool_call.function.name == \"get_code_from_response\":\n",
    "          code = json.loads(tool_call.function.arguments).get('code')\n",
    "          print(code)\n",
    "          break\n",
    "else:\n",
    "  print(response.choices[0].message.content)"
   ],
   "metadata": {
    "collapsed": false,
    "ExecuteTime": {
     "end_time": "2024-01-19T14:42:56.908854Z",
     "start_time": "2024-01-19T14:42:55.205180Z"
    }
   },
   "id": "15a4d4a5715b11bb"
  },
  {
   "cell_type": "code",
   "execution_count": null,
   "outputs": [],
   "source": [],
   "metadata": {
    "collapsed": false
   },
   "id": "afe98aad8ef40966"
  }
 ],
 "metadata": {
  "kernelspec": {
   "display_name": "Python 3",
   "language": "python",
   "name": "python3"
  },
  "language_info": {
   "codemirror_mode": {
    "name": "ipython",
    "version": 2
   },
   "file_extension": ".py",
   "mimetype": "text/x-python",
   "name": "python",
   "nbconvert_exporter": "python",
   "pygments_lexer": "ipython2",
   "version": "2.7.6"
  }
 },
 "nbformat": 4,
 "nbformat_minor": 5
}
