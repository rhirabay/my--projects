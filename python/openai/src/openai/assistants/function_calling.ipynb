{
 "cells": [
  {
   "cell_type": "code",
   "execution_count": 1,
   "id": "initial_id",
   "metadata": {
    "ExecuteTime": {
     "end_time": "2024-07-13T11:35:29.213405Z",
     "start_time": "2024-07-13T11:35:28.721260Z"
    }
   },
   "outputs": [
    {
     "data": {
      "text/plain": [
       "Assistant(id='asst_mqJHgtV5axQmIVQ7noOg9Hsi', created_at=1720870548, description=None, instructions='あなたはITエンジニアの優秀なアシスタントです。', metadata={}, model='gpt-4o', name=None, object='assistant', tools=[FunctionTool(function=FunctionDefinition(name='find_file_by_word', description='特定のワードを含むファイルを検索する', parameters={'type': 'object', 'properties': {'search_word': {'type': 'string', 'description': '検索ワード'}}, 'required': ['search_word']}), type='function')], response_format='auto', temperature=1.0, tool_resources=ToolResources(code_interpreter=None, file_search=None), top_p=1.0)"
      ]
     },
     "execution_count": 1,
     "metadata": {},
     "output_type": "execute_result"
    }
   ],
   "source": [
    "# 環境変数の読み込み\n",
    "from dotenv import load_dotenv\n",
    "load_dotenv()\n",
    "\n",
    "from openai import OpenAI\n",
    "client = OpenAI()\n",
    "\n",
    "# アシスタントを生成\n",
    "assistant = client.beta.assistants.create(\n",
    "    instructions=\"あなたはITエンジニアの優秀なアシスタントです。\",\n",
    "    model=\"gpt-4o\",\n",
    "    tools=[\n",
    "        {\n",
    "            \"type\": \"function\",\n",
    "            \"function\": {\n",
    "                \"name\": \"find_file_by_word\",\n",
    "                \"description\": \"特定のワードを含むファイルを検索する\",\n",
    "                \"parameters\": {\n",
    "                    \"type\": \"object\",\n",
    "                    \"properties\": {\n",
    "                        \"search_word\": {\n",
    "                            \"type\": \"string\",\n",
    "                            \"description\": \"検索ワード\"\n",
    "                        }\n",
    "                    },\n",
    "                    \"required\": [\"search_word\"]\n",
    "                }\n",
    "            }\n",
    "        },\n",
    "    ],\n",
    ")\n",
    "assistant"
   ]
  },
  {
   "cell_type": "code",
   "execution_count": 3,
   "id": "163451429b1a78bd",
   "metadata": {
    "collapsed": false,
    "jupyter": {
     "outputs_hidden": false
    }
   },
   "outputs": [
    {
     "data": {
      "text/plain": [
       "Assistant(id='asst_mqJHgtV5axQmIVQ7noOg9Hsi', created_at=1720870548, description=None, instructions='あなたはITエンジニアの優秀なアシスタントです。', metadata={}, model='gpt-4o', name=None, object='assistant', tools=[FunctionTool(function=FunctionDefinition(name='find_file_by_word', description='特定のワードを含むファイルを検索する', parameters={'type': 'object', 'properties': {'search_word': {'type': 'string', 'description': '検索ワード'}}, 'required': ['search_word']}), type='function')], response_format='auto', temperature=1.0, tool_resources=ToolResources(code_interpreter=None, file_search=None), top_p=1.0)"
      ]
     },
     "execution_count": 3,
     "metadata": {},
     "output_type": "execute_result"
    }
   ],
   "source": [
    "assistant = client.beta.assistants.retrieve('asst_mqJHgtV5axQmIVQ7noOg9Hsi')\n",
    "assistant"
   ]
  },
  {
   "cell_type": "code",
   "execution_count": 25,
   "id": "b77f0e665ed65de5",
   "metadata": {
    "collapsed": false,
    "jupyter": {
     "outputs_hidden": false
    }
   },
   "outputs": [
    {
     "data": {
      "text/plain": [
       "Thread(id='thread_fqLTlDjIAw1CjdsyL6xtVRJz', created_at=1720871778, metadata={}, object='thread', tool_resources=ToolResources(code_interpreter=None, file_search=None))"
      ]
     },
     "execution_count": 25,
     "metadata": {},
     "output_type": "execute_result"
    }
   ],
   "source": [
    "# スレッドを生成\n",
    "thread = client.beta.threads.create()\n",
    "thread"
   ]
  },
  {
   "cell_type": "code",
   "execution_count": 26,
   "id": "5541e02d6de1059d",
   "metadata": {
    "collapsed": false,
    "jupyter": {
     "outputs_hidden": false
    }
   },
   "outputs": [
    {
     "data": {
      "text/plain": [
       "Message(id='msg_VdlG9DMBY9bjd4oTFbnBQcU6', assistant_id=None, attachments=[], completed_at=None, content=[TextContentBlock(text=Text(annotations=[], value='「sample」が含まれるファイルを検索して'), type='text')], created_at=1720871780, incomplete_at=None, incomplete_details=None, metadata={}, object='thread.message', role='user', run_id=None, status=None, thread_id='thread_fqLTlDjIAw1CjdsyL6xtVRJz')"
      ]
     },
     "execution_count": 26,
     "metadata": {},
     "output_type": "execute_result"
    }
   ],
   "source": [
    "# スレッドにメッセージを追加\n",
    "message = client.beta.threads.messages.create(\n",
    "    thread_id=thread.id,\n",
    "    role=\"user\",\n",
    "    content=\"「sample」が含まれるファイルを検索して\"\n",
    ")\n",
    "message"
   ]
  },
  {
   "cell_type": "code",
   "execution_count": 27,
   "id": "a776f9d030d706bf",
   "metadata": {
    "collapsed": false,
    "jupyter": {
     "outputs_hidden": false
    }
   },
   "outputs": [
    {
     "data": {
      "text/plain": [
       "Run(id='run_Js2Pb5Ay167zBTKk3erMXJ0C', assistant_id='asst_mqJHgtV5axQmIVQ7noOg9Hsi', cancelled_at=None, completed_at=None, created_at=1720871785, expires_at=1720872385, failed_at=None, incomplete_details=None, instructions='あなたはITエンジニアの優秀なアシスタントです。', last_error=None, max_completion_tokens=None, max_prompt_tokens=None, metadata={}, model='gpt-4o', object='thread.run', parallel_tool_calls=True, required_action=None, response_format='auto', started_at=None, status='queued', thread_id='thread_fqLTlDjIAw1CjdsyL6xtVRJz', tool_choice='auto', tools=[FunctionTool(function=FunctionDefinition(name='find_file_by_word', description='特定のワードを含むファイルを検索する', parameters={'type': 'object', 'properties': {'search_word': {'type': 'string', 'description': '検索ワード'}}, 'required': ['search_word']}), type='function')], truncation_strategy=TruncationStrategy(type='auto', last_messages=None), usage=None, temperature=1.0, top_p=1.0, tool_resources={})"
      ]
     },
     "execution_count": 27,
     "metadata": {},
     "output_type": "execute_result"
    }
   ],
   "source": [
    "# スレッドを実行\n",
    "run = client.beta.threads.runs.create(\n",
    "    thread_id=thread.id,\n",
    "    assistant_id=assistant.id,\n",
    "    # instructions=\"Please address the user as Jane Doe. The user has a premium account.\"\n",
    ")\n",
    "run"
   ]
  },
  {
   "cell_type": "code",
   "execution_count": 28,
   "id": "c1584a409c06df08",
   "metadata": {
    "ExecuteTime": {
     "end_time": "2024-02-18T13:22:36.273891Z",
     "start_time": "2024-02-18T13:22:36.080772Z"
    },
    "collapsed": false,
    "jupyter": {
     "outputs_hidden": false
    }
   },
   "outputs": [
    {
     "name": "stdout",
     "output_type": "stream",
     "text": [
      "requires_action\n",
      "RequiredAction(submit_tool_outputs=RequiredActionSubmitToolOutputs(tool_calls=[RequiredActionFunctionToolCall(id='call_dws2s7D3z79tOS9tAFOsYTdK', function=Function(arguments='{\"search_word\":\"sample\"}', name='find_file_by_word'), type='function')]), type='submit_tool_outputs')\n"
     ]
    }
   ],
   "source": [
    "# スレッドの実行結果を取得\n",
    "run = client.beta.threads.runs.retrieve(\n",
    "    thread_id=thread.id,\n",
    "    run_id=run.id\n",
    ")\n",
    "print(run.status)\n",
    "print(run.required_action)"
   ]
  },
  {
   "cell_type": "code",
   "execution_count": 29,
   "id": "068c9c69-85d9-4d4c-b990-47f9d0a3761a",
   "metadata": {},
   "outputs": [
    {
     "name": "stdout",
     "output_type": "stream",
     "text": [
      "Function(arguments='{\"search_word\":\"sample\"}', name='find_file_by_word')\n",
      "{'search_word': 'sample'}\n",
      "['./docs/sample.txt']\n"
     ]
    }
   ],
   "source": [
    "if run.status == 'requires_action':\n",
    "    tool_outputs = []\n",
    "    calling_tool_list = run.required_action.submit_tool_outputs.tool_calls\n",
    "    for calling_tool in calling_tool_list:\n",
    "        calling_function = calling_tool.function\n",
    "        print(calling_function)\n",
    "        if calling_function.name == 'find_file_by_word':\n",
    "            # 現在のディレクトリから「search_word」をファイルの内容に含むファイルを検索\n",
    "            import os, json\n",
    "            arguments = json.loads(calling_function.arguments)\n",
    "            print(arguments)\n",
    "            search_word = arguments['search_word']\n",
    "            files = [f for f in os.popen(f'grep -lr {search_word} ./docs').read().split('\\n') if f]\n",
    "            print(files)\n",
    "            tool_outputs.append({\n",
    "              \"tool_call_id\": calling_tool.id,\n",
    "              \"output\": ', '.join(files)\n",
    "            })\n",
    "\n",
    "\n",
    "    run = client.beta.threads.runs.submit_tool_outputs_and_poll(\n",
    "          thread_id=thread.id,\n",
    "          run_id=run.id,\n",
    "          tool_outputs=tool_outputs\n",
    "    )"
   ]
  },
  {
   "cell_type": "code",
   "execution_count": 30,
   "id": "4e5a36c6-0ae6-4e97-a4b6-66df92533d15",
   "metadata": {},
   "outputs": [
    {
     "name": "stdout",
     "output_type": "stream",
     "text": [
      "completed\n",
      "None\n"
     ]
    }
   ],
   "source": [
    "print(run.status)\n",
    "print(run.required_action)"
   ]
  },
  {
   "cell_type": "code",
   "execution_count": 31,
   "id": "871b058409d1ce8",
   "metadata": {
    "collapsed": false,
    "jupyter": {
     "outputs_hidden": false
    }
   },
   "outputs": [
    {
     "name": "stdout",
     "output_type": "stream",
     "text": [
      "[Message(id='msg_oz2WTuOUH7GB4AyKXr9BriPO', assistant_id='asst_mqJHgtV5axQmIVQ7noOg9Hsi', attachments=[], completed_at=None, content=[TextContentBlock(text=Text(annotations=[], value='「sample」が含まれるファイルは以下の通りです：\\n- `./docs/sample.txt`'), type='text')], created_at=1720871794, incomplete_at=None, incomplete_details=None, metadata={}, object='thread.message', role='assistant', run_id='run_Js2Pb5Ay167zBTKk3erMXJ0C', status=None, thread_id='thread_fqLTlDjIAw1CjdsyL6xtVRJz'), Message(id='msg_VdlG9DMBY9bjd4oTFbnBQcU6', assistant_id=None, attachments=[], completed_at=None, content=[TextContentBlock(text=Text(annotations=[], value='「sample」が含まれるファイルを検索して'), type='text')], created_at=1720871780, incomplete_at=None, incomplete_details=None, metadata={}, object='thread.message', role='user', run_id=None, status=None, thread_id='thread_fqLTlDjIAw1CjdsyL6xtVRJz')]\n"
     ]
    }
   ],
   "source": [
    "response = client.beta.threads.messages.list(\n",
    "    thread_id=thread.id\n",
    ")\n",
    "print(response.data)"
   ]
  },
  {
   "cell_type": "code",
   "execution_count": 32,
   "id": "d6cd49548907f183",
   "metadata": {
    "ExecuteTime": {
     "end_time": "2024-02-18T13:22:43.072981Z",
     "start_time": "2024-02-18T13:22:43.069137Z"
    },
    "collapsed": false,
    "jupyter": {
     "outputs_hidden": false
    }
   },
   "outputs": [
    {
     "name": "stdout",
     "output_type": "stream",
     "text": [
      "「sample」が含まれるファイルは以下の通りです：\n",
      "- `./docs/sample.txt`\n"
     ]
    }
   ],
   "source": [
    "print(response.data[0].content[0].text.value)"
   ]
  },
  {
   "cell_type": "code",
   "execution_count": null,
   "id": "fec23b6cd6b28d43",
   "metadata": {
    "collapsed": false,
    "jupyter": {
     "outputs_hidden": false
    }
   },
   "outputs": [],
   "source": []
  }
 ],
 "metadata": {
  "kernelspec": {
   "display_name": "Python 3 (ipykernel)",
   "language": "python",
   "name": "python3"
  },
  "language_info": {
   "codemirror_mode": {
    "name": "ipython",
    "version": 3
   },
   "file_extension": ".py",
   "mimetype": "text/x-python",
   "name": "python",
   "nbconvert_exporter": "python",
   "pygments_lexer": "ipython3",
   "version": "3.11.9"
  }
 },
 "nbformat": 4,
 "nbformat_minor": 5
}
