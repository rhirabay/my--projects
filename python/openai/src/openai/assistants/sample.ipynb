{
 "cells": [
  {
   "cell_type": "code",
   "execution_count": 1,
   "id": "initial_id",
   "metadata": {
    "collapsed": true,
    "ExecuteTime": {
     "end_time": "2024-02-18T13:16:22.556327Z",
     "start_time": "2024-02-18T13:16:21.800600Z"
    }
   },
   "outputs": [
    {
     "data": {
      "text/plain": "Assistant(id='asst_XHTjgvDJ0bDnr2sVBW9DNQYS', created_at=1708262182, description=None, file_ids=[], instructions='あなたはJavaコーディングの優秀なアシスタントです', metadata={}, model='gpt-4-turbo-preview', name='サンプル', object='assistant', tools=[])"
     },
     "execution_count": 1,
     "metadata": {},
     "output_type": "execute_result"
    }
   ],
   "source": [
    "# 環境変数の読み込み\n",
    "from dotenv import load_dotenv\n",
    "load_dotenv()\n",
    "\n",
    "import openai\n",
    "client = openai.OpenAI()\n",
    "\n",
    "# アシスタントを生成\n",
    "assistant = client.beta.assistants.create(\n",
    "    name=\"サンプル\",\n",
    "    instructions=\"あなたはJavaコーディングの優秀なアシスタントです\",\n",
    "    tools=[],\n",
    "    model=\"gpt-4-turbo-preview\"\n",
    ")\n",
    "assistant"
   ]
  },
  {
   "cell_type": "code",
   "execution_count": 29,
   "outputs": [
    {
     "data": {
      "text/plain": "Assistant(id='asst_XHTjgvDJ0bDnr2sVBW9DNQYS', created_at=1708262182, description=None, file_ids=[], instructions='あなたはJavaコーディングの優秀なアシスタントです', metadata={}, model='gpt-4-turbo-preview', name='サンプル', object='assistant', tools=[])"
     },
     "execution_count": 29,
     "metadata": {},
     "output_type": "execute_result"
    }
   ],
   "source": [
    "assistant = client.beta.assistants.retrieve('asst_XHTjgvDJ0bDnr2sVBW9DNQYS')\n",
    "assistant"
   ],
   "metadata": {
    "collapsed": false,
    "ExecuteTime": {
     "end_time": "2024-02-18T13:30:06.070601Z",
     "start_time": "2024-02-18T13:30:05.745590Z"
    }
   },
   "id": "163451429b1a78bd"
  },
  {
   "cell_type": "code",
   "execution_count": 2,
   "outputs": [
    {
     "data": {
      "text/plain": "Thread(id='thread_Gk5pRK4X9CDNoS0rCN74xjCR', created_at=1708262194, metadata={}, object='thread', tool_resources=[])"
     },
     "execution_count": 2,
     "metadata": {},
     "output_type": "execute_result"
    }
   ],
   "source": [
    "# スレッドを生成\n",
    "thread = client.beta.threads.create()\n",
    "thread"
   ],
   "metadata": {
    "collapsed": false,
    "ExecuteTime": {
     "start_time": "2024-02-18T13:16:34.604598Z"
    }
   },
   "id": "b77f0e665ed65de5"
  },
  {
   "cell_type": "code",
   "execution_count": 3,
   "outputs": [
    {
     "data": {
      "text/plain": "ThreadMessage(id='msg_EHYIMnWU62u7f4qOvaqVkliO', assistant_id=None, content=[MessageContentText(text=Text(annotations=[], value=\"'Hello world 'と出力するコードを生成して\"), type='text')], created_at=1708262220, file_ids=[], metadata={}, object='thread.message', role='user', run_id=None, thread_id='thread_Gk5pRK4X9CDNoS0rCN74xjCR')"
     },
     "execution_count": 3,
     "metadata": {},
     "output_type": "execute_result"
    }
   ],
   "source": [
    "# スレッドにメッセージを追加\n",
    "message = client.beta.threads.messages.create(\n",
    "    thread_id=thread.id,\n",
    "    role=\"user\",\n",
    "    content=\"'Hello world 'と出力するコードを生成して\"\n",
    ")\n",
    "message"
   ],
   "metadata": {
    "collapsed": false,
    "ExecuteTime": {
     "start_time": "2024-02-18T13:17:00.702952Z"
    }
   },
   "id": "5541e02d6de1059d"
  },
  {
   "cell_type": "code",
   "execution_count": 18,
   "outputs": [
    {
     "data": {
      "text/plain": "Run(id='run_P4aMHqW7ts7MJb84dLtwPy6P', assistant_id='asst_XHTjgvDJ0bDnr2sVBW9DNQYS', cancelled_at=None, completed_at=None, created_at=1708262521, expires_at=1708263121, failed_at=None, file_ids=[], instructions='あなたはJavaコーディングの優秀なアシスタントです', last_error=None, metadata={}, model='gpt-4-turbo-preview', object='thread.run', required_action=None, started_at=None, status='queued', thread_id='thread_Gk5pRK4X9CDNoS0rCN74xjCR', tools=[], usage=None)"
     },
     "execution_count": 18,
     "metadata": {},
     "output_type": "execute_result"
    }
   ],
   "source": [
    "# スレッドを実行\n",
    "run = client.beta.threads.runs.create(\n",
    "    thread_id=thread.id,\n",
    "    assistant_id=assistant.id,\n",
    "    # instructions=\"Please address the user as Jane Doe. The user has a premium account.\"\n",
    ")\n",
    "run"
   ],
   "metadata": {
    "collapsed": false,
    "ExecuteTime": {
     "start_time": "2024-02-18T13:22:01.323753Z"
    }
   },
   "id": "a776f9d030d706bf"
  },
  {
   "cell_type": "code",
   "execution_count": 25,
   "outputs": [
    {
     "name": "stdout",
     "output_type": "stream",
     "text": [
      "completed\n"
     ]
    }
   ],
   "source": [
    "# スレッドの実行結果を取得\n",
    "run = client.beta.threads.runs.retrieve(\n",
    "    thread_id=thread.id,\n",
    "    run_id=run.id\n",
    ")\n",
    "print(run.status)"
   ],
   "metadata": {
    "collapsed": false,
    "ExecuteTime": {
     "end_time": "2024-02-18T13:22:36.273891Z",
     "start_time": "2024-02-18T13:22:36.080772Z"
    }
   },
   "id": "c1584a409c06df08"
  },
  {
   "cell_type": "code",
   "execution_count": 26,
   "outputs": [
    {
     "name": "stdout",
     "output_type": "stream",
     "text": [
      "[ThreadMessage(id='msg_I2Y6O0VJStTV2qJUxt9GY5B2', assistant_id='asst_XHTjgvDJ0bDnr2sVBW9DNQYS', content=[MessageContentText(text=Text(annotations=[], value='Spring Bootにおける `RestController` を使って「Hello world」を出力する基本的な例は以下の通りです。このコードスニペットでは、Spring Bootを利用してRESTfulなWebサービスを構築します。`@RestController` アノテーションは、クラスがコントローラであることを示し、`@GetMapping` アノテーションはHTTP GETリクエストをこのメソッドにマッピングします。\\n\\nまず、Spring Initializr（[https://start.spring.io/](https://start.spring.io/)）でプロジェクトを作成します。必要な依存関係は `Spring Web` だけです。\\n\\n次に、`HelloWorldController` クラスを作成して、以下のようなコードを書きます。\\n\\n```java\\npackage com.example.demo;\\n\\nimport org.springframework.web.bind.annotation.GetMapping;\\nimport org.springframework.web.bind.annotation.RestController;\\n\\n@RestController\\npublic class HelloWorldController {\\n\\n    @GetMapping(\"/hello\")\\n    public String sayHello() {\\n        return \"Hello world\";\\n    }\\n}\\n```\\n\\nこのコントローラは、`/hello` パスにGETリクエストが来たときに「Hello world」を返すシンプルなRESTfulエンドポイントを提供します。\\n\\nこのコードを実行するには、`SpringBootApplication` アノテーションが付いたメインクラスが必要です。もしまだ作成していない場合は、以下のように作成します。\\n\\n```java\\npackage com.example.demo;\\n\\nimport org.springframework.boot.SpringApplication;\\nimport org.springframework.boot.autoconfigure.SpringBootApplication;\\n\\n@SpringBootApplication\\npublic class DemoApplication {\\n\\n    public static void main(String[] args) {\\n        SpringApplication.run(DemoApplication.class, args);\\n    }\\n}\\n```\\n\\nSpring Bootアプリケーションを実行した後、ブラウザまたはcurlコマンドで `http://localhost:8080/hello` にアクセスすると、`Hello world` メッセージが表示されます。\\n\\n```bash\\ncurl http://localhost:8080/hello\\n```\\n\\nこのようにSpring Bootを使って、簡単にRESTfulなWebサービスを作成し、デプロイすることができます。'), type='text')], created_at=1708262522, file_ids=[], metadata={}, object='thread.message', role='assistant', run_id='run_P4aMHqW7ts7MJb84dLtwPy6P', thread_id='thread_Gk5pRK4X9CDNoS0rCN74xjCR'), ThreadMessage(id='msg_nD8X5EXreZeV4hPfp8tw7uRA', assistant_id=None, content=[MessageContentText(text=Text(annotations=[], value='SpringBootのRestControllerで'), type='text')], created_at=1708262509, file_ids=[], metadata={}, object='thread.message', role='user', run_id=None, thread_id='thread_Gk5pRK4X9CDNoS0rCN74xjCR'), ThreadMessage(id='msg_l20gim3lcarBC3Qj7Hop1NgC', assistant_id='asst_XHTjgvDJ0bDnr2sVBW9DNQYS', content=[MessageContentText(text=Text(annotations=[], value='Javaで「Hello world」を出力する最も基本的なコードは以下の通りです。\\n\\n```java\\npublic class HelloWorld {\\n    public static void main(String[] args) {\\n        System.out.println(\"Hello world\");\\n    }\\n}\\n```\\n\\nこのコードをコンパイルして実行すると、コンソールに「Hello world」と表示されます。'), type='text')], created_at=1708262235, file_ids=[], metadata={}, object='thread.message', role='assistant', run_id='run_tw9sJxtuqaLgu89Hvr0oJP1T', thread_id='thread_Gk5pRK4X9CDNoS0rCN74xjCR'), ThreadMessage(id='msg_EHYIMnWU62u7f4qOvaqVkliO', assistant_id=None, content=[MessageContentText(text=Text(annotations=[], value=\"'Hello world 'と出力するコードを生成して\"), type='text')], created_at=1708262220, file_ids=[], metadata={}, object='thread.message', role='user', run_id=None, thread_id='thread_Gk5pRK4X9CDNoS0rCN74xjCR')]\n"
     ]
    }
   ],
   "source": [
    "response = client.beta.threads.messages.list(\n",
    "    thread_id=thread.id\n",
    ")\n",
    "print(response.data)"
   ],
   "metadata": {
    "collapsed": false,
    "ExecuteTime": {
     "end_time": "2024-02-18T13:22:39.074455Z",
     "start_time": "2024-02-18T13:22:38.876098Z"
    }
   },
   "id": "871b058409d1ce8"
  },
  {
   "cell_type": "code",
   "execution_count": 27,
   "outputs": [
    {
     "name": "stdout",
     "output_type": "stream",
     "text": [
      "Spring Bootにおける `RestController` を使って「Hello world」を出力する基本的な例は以下の通りです。このコードスニペットでは、Spring Bootを利用してRESTfulなWebサービスを構築します。`@RestController` アノテーションは、クラスがコントローラであることを示し、`@GetMapping` アノテーションはHTTP GETリクエストをこのメソッドにマッピングします。\n",
      "\n",
      "まず、Spring Initializr（[https://start.spring.io/](https://start.spring.io/)）でプロジェクトを作成します。必要な依存関係は `Spring Web` だけです。\n",
      "\n",
      "次に、`HelloWorldController` クラスを作成して、以下のようなコードを書きます。\n",
      "\n",
      "```java\n",
      "package com.example.demo;\n",
      "\n",
      "import org.springframework.web.bind.annotation.GetMapping;\n",
      "import org.springframework.web.bind.annotation.RestController;\n",
      "\n",
      "@RestController\n",
      "public class HelloWorldController {\n",
      "\n",
      "    @GetMapping(\"/hello\")\n",
      "    public String sayHello() {\n",
      "        return \"Hello world\";\n",
      "    }\n",
      "}\n",
      "```\n",
      "\n",
      "このコントローラは、`/hello` パスにGETリクエストが来たときに「Hello world」を返すシンプルなRESTfulエンドポイントを提供します。\n",
      "\n",
      "このコードを実行するには、`SpringBootApplication` アノテーションが付いたメインクラスが必要です。もしまだ作成していない場合は、以下のように作成します。\n",
      "\n",
      "```java\n",
      "package com.example.demo;\n",
      "\n",
      "import org.springframework.boot.SpringApplication;\n",
      "import org.springframework.boot.autoconfigure.SpringBootApplication;\n",
      "\n",
      "@SpringBootApplication\n",
      "public class DemoApplication {\n",
      "\n",
      "    public static void main(String[] args) {\n",
      "        SpringApplication.run(DemoApplication.class, args);\n",
      "    }\n",
      "}\n",
      "```\n",
      "\n",
      "Spring Bootアプリケーションを実行した後、ブラウザまたはcurlコマンドで `http://localhost:8080/hello` にアクセスすると、`Hello world` メッセージが表示されます。\n",
      "\n",
      "```bash\n",
      "curl http://localhost:8080/hello\n",
      "```\n",
      "\n",
      "このようにSpring Bootを使って、簡単にRESTfulなWebサービスを作成し、デプロイすることができます。\n"
     ]
    }
   ],
   "source": [
    "print(response.data[0].content[0].text.value)"
   ],
   "metadata": {
    "collapsed": false,
    "ExecuteTime": {
     "end_time": "2024-02-18T13:22:43.072981Z",
     "start_time": "2024-02-18T13:22:43.069137Z"
    }
   },
   "id": "d6cd49548907f183"
  },
  {
   "cell_type": "code",
   "execution_count": 17,
   "outputs": [
    {
     "data": {
      "text/plain": "ThreadMessage(id='msg_nD8X5EXreZeV4hPfp8tw7uRA', assistant_id=None, content=[MessageContentText(text=Text(annotations=[], value='SpringBootのRestControllerで'), type='text')], created_at=1708262509, file_ids=[], metadata={}, object='thread.message', role='user', run_id=None, thread_id='thread_Gk5pRK4X9CDNoS0rCN74xjCR')"
     },
     "execution_count": 17,
     "metadata": {},
     "output_type": "execute_result"
    }
   ],
   "source": [
    "# スレッドにメッセージを追加\n",
    "message = client.beta.threads.messages.create(\n",
    "    thread_id=thread.id,\n",
    "    role=\"user\",\n",
    "    content=\"SpringBootのRestControllerで\"\n",
    ")\n",
    "message"
   ],
   "metadata": {
    "collapsed": false,
    "ExecuteTime": {
     "end_time": "2024-02-18T13:21:49.465356Z",
     "start_time": "2024-02-18T13:21:49.147711Z"
    }
   },
   "id": "b66ccf214182ec0"
  },
  {
   "cell_type": "code",
   "execution_count": null,
   "outputs": [],
   "source": [],
   "metadata": {
    "collapsed": false
   },
   "id": "fec23b6cd6b28d43"
  }
 ],
 "metadata": {
  "kernelspec": {
   "display_name": "Python 3",
   "language": "python",
   "name": "python3"
  },
  "language_info": {
   "codemirror_mode": {
    "name": "ipython",
    "version": 2
   },
   "file_extension": ".py",
   "mimetype": "text/x-python",
   "name": "python",
   "nbconvert_exporter": "python",
   "pygments_lexer": "ipython2",
   "version": "2.7.6"
  }
 },
 "nbformat": 4,
 "nbformat_minor": 5
}
