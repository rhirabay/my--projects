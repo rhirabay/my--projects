{
 "cells": [
  {
   "cell_type": "code",
   "execution_count": 3,
   "id": "c3edb465-cd76-4641-95de-cb651f9d241f",
   "metadata": {},
   "outputs": [
    {
     "data": {
      "text/plain": [
       "True"
      ]
     },
     "execution_count": 3,
     "metadata": {},
     "output_type": "execute_result"
    }
   ],
   "source": [
    "# ----- 環境変数読み込み -----\n",
    "import os\n",
    "from dotenv import load_dotenv\n",
    "load_dotenv()"
   ]
  },
  {
   "cell_type": "code",
   "execution_count": 4,
   "id": "adbe149f-04e0-4e3c-af68-25fc26488c9a",
   "metadata": {},
   "outputs": [],
   "source": [
    "# ----- OpenAI準備 -----\n",
    "import os\n",
    "import openai\n",
    "openai.api_key = os.getenv(\"OPENAI_API_KEY\")"
   ]
  },
  {
   "cell_type": "code",
   "execution_count": 5,
   "id": "d248b7af-b8d9-4771-8263-5933922f7671",
   "metadata": {},
   "outputs": [
    {
     "name": "stdout",
     "output_type": "stream",
     "text": [
      "{\n",
      "  \"role\": \"assistant\",\n",
      "  \"content\": \"Hi there! How can I assist you today?\"\n",
      "}\n"
     ]
    }
   ],
   "source": [
    "completion = openai.ChatCompletion.create(\n",
    "  model=\"gpt-3.5-turbo\",\n",
    "  messages=[\n",
    "    {\"role\": \"system\", \"content\": \"You are a helpful assistant.\"},\n",
    "    {\"role\": \"user\", \"content\": \"Hello!\"}\n",
    "  ]\n",
    ")\n",
    "\n",
    "print(completion.choices[0].message)"
   ]
  },
  {
   "cell_type": "code",
   "execution_count": 15,
   "id": "c61b025f-1435-4e0e-ba83-bd165912abae",
   "metadata": {},
   "outputs": [],
   "source": [
    "# ----- swagger.yaml読み込み -----\n",
    "import yaml\n",
    "import json\n",
    "\n",
    "with open('/Users/rhirabay/dev/github.com/rhirabay/my-projects/python/openai/swagger.yaml') as file:\n",
    "    swagger_yaml = yaml.safe_load(file)\n",
    "    # print(swagger_yaml['info']['title'])\n",
    "\n",
    "with open('/Users/rhirabay/dev/github.com/rhirabay/my-projects/python/openai/swagger.json', 'w', encoding='UTF-8') as file:\n",
    "    swagger_json = json.dumps(swagger_yaml, indent=2)\n",
    "    file.writelines(swagger_json)\n"
   ]
  },
  {
   "cell_type": "code",
   "execution_count": 25,
   "id": "f33ec16f-aafa-45bb-9000-1f97f3d0d953",
   "metadata": {},
   "outputs": [
    {
     "name": "stdout",
     "output_type": "stream",
     "text": [
      "[Document(page_content='{\\n  \"openapi\": \"3.0.0\",\\n  \"info\": {\\n    \"title\": \"\\\\u30e6\\\\u30fc\\\\u30b6API\",\\n    \"description\": \"\\\\u30e6\\\\u30fc\\\\u30b6\\\\u306b\\\\u95a2\\\\u3059\\\\u308b\\\\u64cd\\\\u4f5c\\\\u3092\\\\u96c6\\\\u7d04\\\\u3057\\\\u305fAPI\",\\n    \"version\": \"0.0.1\"\\n  },\\n  \"servers\": [\\n    {\\n      \"url\": \"https://api.example.com/v1\",\\n      \"description\": \"\\\\u672c\\\\u756a\\\\u30b5\\\\u30fc\\\\u30d0\"\\n    }\\n  ],\\n  \"paths\": {\\n    \"/users\": {\\n      \"post\": {\\n        \"summary\": \"\\\\u30e6\\\\u30fc\\\\u30b6\\\\u767b\\\\u9332\",\\n        \"description\": \"\\\\u30e6\\\\u30fc\\\\u30b6\\\\u3092\\\\u767b\\\\u9332\\\\u3059\\\\u308b\",\\n        \"requestBody\": {\\n          \"content\": {\\n            \"application/json\": {\\n              \"schema\": {\\n                \"type\": \"object\",\\n                \"properties\": {\\n                  \"username\": {\\n                    \"type\": \"string\",\\n                    \"description\": \"\\\\u30e6\\\\u30fc\\\\u30b6\\\\u540d\"\\n                  }\\n                }\\n              }\\n            }\\n          }\\n        },\\n        \"responses\": {\\n          \"200\": {\\n            \"description\": \"A JSON array of user names\",\\n            \"content\": {\\n              \"application/json\": {\\n                \"schema\": {\\n                  \"properties\": {\\n                    \"userId\": {\\n                      \"type\": \"string\",\\n                      \"description\": \"\\\\u767b\\\\u9332\\\\u30e6\\\\u30fc\\\\u30b6\\\\u306e\\\\u30e6\\\\u30fc\\\\u30b6\\\\u8b58\\\\u5225\\\\u5b50\"\\n                    }\\n                  }\\n                }\\n              }\\n            }\\n          }\\n        }\\n      }\\n    }\\n  }\\n}', metadata={'source': '/Users/rhirabay/dev/github.com/rhirabay/my-projects/python/openai/swagger.json'})]\n"
     ]
    }
   ],
   "source": [
    "# ----- lang chain -----\n",
    "from langchain.embeddings.openai import OpenAIEmbeddings\n",
    "from langchain.vectorstores import Chroma\n",
    "from langchain.document_loaders import TextLoader\n",
    "\n",
    "# json読み込み\n",
    "# loader = JSONLoader(\n",
    "#     file_path='/Users/rhirabay/dev/github.com/rhirabay/my-projects/python/openai/swagger.json',\n",
    "#     jq_schema = '.',\n",
    "# )\n",
    "# data = loader.load()\n",
    "\n",
    "loader = TextLoader('/Users/rhirabay/dev/github.com/rhirabay/my-projects/python/openai/swagger.json')\n",
    "data = loader.load()\n",
    "print(data)"
   ]
  },
  {
   "cell_type": "code",
   "execution_count": 29,
   "id": "7e7c8f6c-c67b-4cfa-9699-8760a1b1fa16",
   "metadata": {},
   "outputs": [
    {
     "name": "stdout",
     "output_type": "stream",
     "text": [
      "ok\n"
     ]
    }
   ],
   "source": [
    "from langchain.chat_models import ChatOpenAI\n",
    "from langchain.chains import ConversationalRetrievalChain\n",
    "\n",
    "llm = ChatOpenAI(temperature=0, model_name=\"gpt-3.5-turbo\")\n",
    "\n",
    "embeddings = OpenAIEmbeddings()\n",
    "vectorstore = Chroma.from_documents(data, embedding=embeddings, persist_directory=\".\")\n",
    "vectorstore.persist()\n",
    "\n",
    "# 学習させる\n",
    "pdf_qa = ConversationalRetrievalChain.from_llm(llm, vectorstore.as_retriever(),chain_type='refine' ,return_source_documents=True)\n",
    "\n",
    "print('ok')"
   ]
  },
  {
   "cell_type": "code",
   "execution_count": 31,
   "id": "3b464dd9-dda4-4a17-ac11-789c53a7c59c",
   "metadata": {},
   "outputs": [
    {
     "name": "stderr",
     "output_type": "stream",
     "text": [
      "Number of requested results 4 is greater than number of elements in index 2, updating n_results = 2\n"
     ]
    },
    {
     "data": {
      "text/plain": [
       "'Based on the provided context, the refined curl command to create a user with the name \\'hirabay\\' would be:\\n\\n```\\ncurl -X POST -H \"Content-Type: application/json\" -d \\'{\"username\": \"hirabay\"}\\' https://api.example.com/v1/users\\n```\\n\\nPlease note that you need to replace `https://api.example.com/v1` with the actual URL of the server where the API is hosted. This command will send a POST request to the `/users` endpoint of the API, with the request body containing the username \\'hirabay\\'.'"
      ]
     },
     "execution_count": 31,
     "metadata": {},
     "output_type": "execute_result"
    }
   ],
   "source": [
    "# ----- curlコマンドを生成させてみる -----\n",
    "query = \"please show me curl command to create user with name 'hirabay'.\"\n",
    "chat_history = []\n",
    "\n",
    "result = pdf_qa({\"question\": query, \"chat_history\": chat_history})\n",
    "\n",
    "result[\"answer\"].replace(\"\\\\n\", \"\\n\")"
   ]
  },
  {
   "cell_type": "code",
   "execution_count": null,
   "id": "a1c41bf2-0c90-4e1f-92d9-95827b060b5d",
   "metadata": {},
   "outputs": [],
   "source": [
    "# ----- API定義について聞いてみる -----\n",
    "query = \"please show me curl command to create user with name 'hirabay'.\"\n",
    "chat_history = []\n",
    "\n",
    "result = pdf_qa({\"question\": query, \"chat_history\": chat_history})\n",
    "\n",
    "result[\"answer\"]"
   ]
  }
 ],
 "metadata": {
  "kernelspec": {
   "display_name": "Python 3 (ipykernel)",
   "language": "python",
   "name": "python3"
  },
  "language_info": {
   "codemirror_mode": {
    "name": "ipython",
    "version": 3
   },
   "file_extension": ".py",
   "mimetype": "text/x-python",
   "name": "python",
   "nbconvert_exporter": "python",
   "pygments_lexer": "ipython3",
   "version": "3.11.4"
  }
 },
 "nbformat": 4,
 "nbformat_minor": 5
}
